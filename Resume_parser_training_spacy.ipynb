{
 "cells": [
  {
   "cell_type": "code",
   "execution_count": 1,
   "id": "4ac88d70",
   "metadata": {},
   "outputs": [],
   "source": [
    "import spacy\n",
    "import pickle\n",
    "import random\n",
    "from warnings import filterwarnings\n",
    "filterwarnings('ignore')"
   ]
  },
  {
   "cell_type": "code",
   "execution_count": 67,
   "id": "56bbabe9",
   "metadata": {},
   "outputs": [],
   "source": [
    "#pip install PyMuPDF"
   ]
  },
  {
   "cell_type": "code",
   "execution_count": 2,
   "id": "fadafee9",
   "metadata": {},
   "outputs": [],
   "source": [
    "train_data = pickle.load(open('train_data.pkl', 'rb'))"
   ]
  },
  {
   "cell_type": "code",
   "execution_count": 12,
   "id": "b1538cf6",
   "metadata": {},
   "outputs": [],
   "source": [
    "train=train_data[:195]\n",
    "test=train_data[195:]"
   ]
  },
  {
   "cell_type": "code",
   "execution_count": 13,
   "id": "6b95486a",
   "metadata": {},
   "outputs": [
    {
     "data": {
      "text/plain": [
       "(\"Viny Khandelwal Self-employed in Family Business - SELF EMPLOYED  Kullu, Himachal Pradesh - Email me on Indeed: indeed.com/r/Viny- Khandelwal/02e488f477e2f5bc  • Currently pursuing my certifications in Digital Marketing. • 2 year's experience in managing, maintaining and assisting to run a camping site. • Additional experience in event managing and emcee in Army Wife Welfare Association (NGO) • 1-year self-employed in Kudi Firang. • 2 years of work experience in Infrastructure Management and Support in TCS. • Worked as Soft skill trainer in TCS. • Worked as Operation Analyst for Microsoft Server management team. • Worked as Application Support engineer for PricewaterhouseCoopers, USA. • Worked as Technical Support for Microsoft Office, Outlook and PowerPoint.  WORK EXPERIENCE  Self-employed in Family Business  SELF EMPLOYED -  February 2015 to Present  of tourist camping site. Managing, maintaining and assisting to run a camping site. • Self-employed in Kudi Firang under self-proprietary. Designing Digital print art and getting it printed for Handbags and Home Décor. Actively participated in exhibitions and Trade shows.  Systems Engineer  Microsoft Corporation -  Hyderabad, Telangana -  October 2012 to January 2015  PROJECTS: 1. Microsoft Server Management  ➢ Client: Microsoft Corporation. • Role: Microsoft Server infrastructure remote management - Remotely logon to and manage the Microsoft Corporation datacenter servers all over the world and configure/ deploy according to the incident/change management request/ticket. • Responsibilities: Incident management and change management, performing simple changes and re-assigning incident tickets to on-site work, server rename, rebuild, configuration tasks, datacenter server deployments and hardware procurement/replacement follow-ups.  2. PwC Application Support  ➢ Client: PricewaterhouseCoopers. • Role: Incident management and other applications for corporates and firms in USA.  https://www.indeed.com/r/Viny-Khandelwal/02e488f477e2f5bc?isid=rex-download&ikw=download-top&co=IN https://www.indeed.com/r/Viny-Khandelwal/02e488f477e2f5bc?isid=rex-download&ikw=download-top&co=IN   • Responsibilities: Handling deployment of firm application upgrades and reporting of bugs and errors to development team, SLA and quality report submission and training agents according to new updates and best practices shared, attending team meetings for process development and improvement, maintain existing and generate new operational support documentation, communicating with 3rd party service providers for account activations, upgrades, password resets and membership renewals, troubleshooting system software and hardware configuration issues, log issue and user contact into customer database, translate end-user business needs into working solutions.  EDUCATION  Bachelor of Engineering in Digital Marketing  Nitte Meenakshi Institute of Technology -  Bengaluru, Karnataka  SKILLS  EXCHANGE (Less than 1 year), HTML (Less than 1 year), KITCHEN (Less than 1 year), LINUX (Less than 1 year), VMWARE (Less than 1 year)  GROUPS  AWWA  November 2015 to Present  ADDITIONAL INFORMATION  • Photography and video editing for Viny's Kitchen (VLOG on YouTube) • Good communication skill and Public Speaking as Orator. • Knowledge on Windows Server […] Linux, Exchange server, VMware, HTML.  PERSONAL DOSSIER  Name: Viny Khandelwal Phone: […] Email: khandelwal.viny@gmail.com Husband's Name: Capt. Anuj Mahant  Permanent Address: HNO - 240, Gandhinagar, Dhalpur, […]\",\n",
       " {'entities': [(3375, 3390, 'Name'),\n",
       "   (2952, 3086, 'Skills'),\n",
       "   (2879, 2918, 'College Name'),\n",
       "   (2833, 2878, 'Degree'),\n",
       "   (822, 835, 'Designation'),\n",
       "   (111, 158, 'Email Address'),\n",
       "   (66, 71, 'Location'),\n",
       "   (51, 64, 'Designation'),\n",
       "   (0, 15, 'Name')]})"
      ]
     },
     "execution_count": 13,
     "metadata": {},
     "output_type": "execute_result"
    }
   ],
   "source": [
    "train[100]"
   ]
  },
  {
   "cell_type": "code",
   "execution_count": 14,
   "id": "8cea658e",
   "metadata": {},
   "outputs": [],
   "source": [
    "nlp = spacy.blank('en')\n",
    "\n",
    "def train_model(train_data,iteration):\n",
    "    if 'ner' not in nlp.pipe_names:\n",
    "        ner = nlp.create_pipe('ner')\n",
    "        nlp.add_pipe(ner, last = True)\n",
    "\n",
    "    for _, annotation in train_data:\n",
    "        for ent in annotation['entities']:\n",
    "            ner.add_label(ent[2])\n",
    "            \n",
    "    other_pipes = [pipe for pipe in nlp.pipe_names if pipe != 'ner']\n",
    "    with nlp.disable_pipes(*other_pipes):  # only train NER\n",
    "        optimizer = nlp.begin_training()\n",
    "        for itn in range(iteration):\n",
    "            print(\"Starting iteration \" + str(itn))\n",
    "            random.shuffle(train_data)\n",
    "            losses = {}\n",
    "            index = 0\n",
    "            for text, annotations in train_data:\n",
    "                try:\n",
    "                    nlp.update(\n",
    "                        [text],  # batch of texts\n",
    "                        [annotations],  # batch of annotations\n",
    "                        drop=0.2,  # dropout - make it harder to memorise data\n",
    "                        sgd=optimizer,  # callable to update weights\n",
    "                        losses=losses)\n",
    "                except Exception as e:\n",
    "                    pass\n",
    "                \n",
    "            print(losses)"
   ]
  },
  {
   "cell_type": "code",
   "execution_count": 15,
   "id": "5385636b",
   "metadata": {},
   "outputs": [
    {
     "name": "stdout",
     "output_type": "stream",
     "text": [
      "Starting iteration 0\n",
      "{'ner': 11716.699296218305}\n",
      "Starting iteration 1\n",
      "{'ner': 11736.231332509124}\n",
      "Starting iteration 2\n",
      "{'ner': 8963.170440481726}\n",
      "Starting iteration 3\n",
      "{'ner': 6678.370912342469}\n",
      "Starting iteration 4\n",
      "{'ner': 7074.920223811082}\n",
      "Starting iteration 5\n",
      "{'ner': 5526.824851349581}\n",
      "Starting iteration 6\n",
      "{'ner': 5376.39867129667}\n",
      "Starting iteration 7\n",
      "{'ner': 5678.90043212267}\n",
      "Starting iteration 8\n",
      "{'ner': 5773.109862027019}\n",
      "Starting iteration 9\n",
      "{'ner': 4842.920224842176}\n",
      "Starting iteration 10\n",
      "{'ner': 3900.7601942586157}\n",
      "Starting iteration 11\n",
      "{'ner': 4200.877730082689}\n",
      "Starting iteration 12\n",
      "{'ner': 3995.303149327148}\n",
      "Starting iteration 13\n",
      "{'ner': 3370.6498919543}\n",
      "Starting iteration 14\n",
      "{'ner': 3880.2066849268954}\n",
      "Starting iteration 15\n",
      "{'ner': 3440.7130627813667}\n",
      "Starting iteration 16\n",
      "{'ner': 3548.4882766244996}\n",
      "Starting iteration 17\n",
      "{'ner': 3678.1406386759922}\n",
      "Starting iteration 18\n",
      "{'ner': 2777.295863259165}\n",
      "Starting iteration 19\n",
      "{'ner': 3350.0103496707925}\n"
     ]
    }
   ],
   "source": [
    "train_model(train_data,20)"
   ]
  },
  {
   "cell_type": "code",
   "execution_count": 16,
   "id": "aa1c1cf0",
   "metadata": {},
   "outputs": [],
   "source": [
    "nlp.to_disk('nlp_model')"
   ]
  },
  {
   "cell_type": "code",
   "execution_count": 17,
   "id": "3a5696de",
   "metadata": {},
   "outputs": [],
   "source": [
    "nlp_model = spacy.load('nlp_model')"
   ]
  },
  {
   "cell_type": "code",
   "execution_count": 18,
   "id": "02025e18",
   "metadata": {},
   "outputs": [
    {
     "name": "stdout",
     "output_type": "stream",
     "text": [
      "Senthil Kumar Senior Technical Lead - HCL Cisco  - Email me on Indeed: indeed.com/r/Senthil-Kumar/d9d82865dd38d449  • Result oriented Networking Professional with 11 years' experience in testing network products diversified skills includes testing ACI SDN fabric, UCSD orchestration, Routing and Switching: design, deploy and troubleshoot customer network • Extensive knowledge of Testing and Deploying network test plans, protocols, Strategies and Lab Setup. • In-depth knowledge of ACI fabric, Routing and switching protocols • Proven communication skills and the ability to troubleshoot and solve network issues • Skilled in providing support in various networking testing activities to provide effective support and handling of customer escalation and for ensuring timely and effective support  WORK EXPERIENCE  Senior Technical Lead  HCL Cisco -  Bengaluru, Karnataka -  October 2015 to Present  Project Title: Feature testing and Deployment on ACI fabric for Cisco IT and UCSD  • ACI Fabric deployment in single POD and Multi-POD environment • Deployed Cisco ACI Multi-Site Controller with ACI fabric for Testing stretched EPG's between Data centers • Deployed Cisco IT replica Setup in Local Lab • Handling Cisco IT customer network and pre-deployment of image testing before handing to CISCO IT Customer • End to end testing of Cisco IT test bed, upgrade and downgrade of Various images • Configured SDN Controller (APIC) Decommissioned and Commissioned in Cluster • Configured UCS manager • APIC upgrade downgrade, Cisco Nexus 9k leaf spine downgrade upgrade testing. • Bring up ACI leaf and spine fabric with UCS fabric interconnect • Implementation of VMware DVS and Cisco AVS in Esxi host and tested the AVS functionality • Tested redundancy testing on leaf, spine and fabric interconnect • Communicated inconsistencies between System Specifications and Test Results to development and/or analyst team • Involved in Defect Review meetings escalating and prioritizing issues effectively • Experience in implementation of VMware Infrastructure 5.5 / 6.0 • Managed Virtualization environment using VMware EXI 5.5/6.0, Vcenter 5.5/6.0 • Creating and Managing virtual machines and Templates  https://www.indeed.com/r/Senthil-Kumar/d9d82865dd38d449?isid=rex-download&ikw=download-top&co=IN   • Migration of VM using Vmotion between Clusters • Configured Windows iSCSI SAN and integrated to VMware • Testing Cisco APIC with UCSD integration with Multi Site Controller  Technical Lead  Aricent Cisco -  July 2012 to September 2015  Client Cisco Systems Project Title: Feature testing and Deployment on CISCO CARRIER PACKET TRANSPORT  • Worked on EFT with Bharti Telecom and China Telecom Demo for 9.7 rings features • Conducting the Dev-test activities for CTP for Rings 9.7 feature. Bring up new setup, • Written test cases for CPT 50 Ring feature to test REP and also to validate MPLS TP and P2MP EVC • Tested MPLS TP, single segment and multi-segment Pseudowire, P2MP EVC, REP features. • Tested EVC P2MP type on that carried out Single tag, Double tab of 802.1q and Dot1ad • Based on Cisco Resilient Ethernet Protocol feature CPT 9.7 testing is carried out. • Created open and closed end segment for REP topology and tested Rings CTP 9.7 feature • Tested Mac learning, aging, flushing and limiting features • Tested multiple frame size and JUMBO frame verification with MPLS TP • Tested Link Aggregation verification with MPLS TP • Tested Memory Backup verification with fully loaded CPT configuration • Hardware redundant Plug in and Plug out Circuit Pack test and High availability testing for CTP 600 • Network Protection verification testing with MPLS TP working LSP and Protected LSP • Tested DHCP Snooping • Tested EVC P2MP type on that carried out Single tag, Double tab of 802.1q and Dot1ad • Tested Mac learning, aging and limiting features • Supporting customer queries for the product  Technical Lead  Aricent Group -  December 2011 to June 2012  Client KeyMile Germany  • Conducting the Dev-test activities for Eth-Sys series switch. Bring up new setup, preparation of FT test plan, derive test estimate for the Release. • Tested the various images submitted by release -ops team • Carried out manual testing on Vlan 802.1Q ( Mac aging, Mac flooding, Tag and untag) using SNMP mib browser and Aricent ISS • Written test cases for RSTP and MSTP features and tested it. • Debug the failures by configuring the test bed manually and filing the defects  Technical Lead (HCL)    Client Cisco Systems -  January 2010 to December 2011  Cisco 12000 Gigabit Switching Router)  • Performed the Role of Technical lead for a team member size of 4 • Test the various images submitted by release -ops team • Carried out manual testing of Connection Server (HSRP) and OSPF features to verify the functionality • Tested OSPF point to point and Broadcast network • Bring up new setup, prepare test plan, derive test cases and execute the test cases • Debug the failures by configuring the test bed manually and filing the defects • Interact & co-ordinate with Dev-test and Development team to review the CFD's and script coverage. • Find defects through manual testing and verify the defects • Analyze both internal and externally found defects and come up with a plan to reduce the defects missed out in the scripts.  Test Lead (HCL)  Client Cisco Systems -  May 2007 to December 2011  Virtualization)  • Performed the Role of lead for a team member size of 5 • Image testing on ACE module and ACE 4710 Appliance. • Coordinating with onsite/offsite teams in resolving the defects found when performing Testing. • Given white paper & Presentation document in ACE High Availability and Securing ACE 4710 with ACS server • Test Plan writing, reviewing and planning test strategies. • Peer to Peer Reviews to avoid Post Delivery Defects • Lab Test Bed creation and Infrastructure Maintenance • Configured High Availability of ACE Module, ACE Appliance and ANM Servers • Configured End to End traffic Load balancing of Data center using the ACE 4710, ACE module and CSM devices • Deployed different topologies NAT, Routed and Bridged for End to End traffic Load balancing of Data center  Lab Administrator  HCL Cisco -  Chennai, Tamil Nadu -  May 2003 to June 2007  Key responsibility is to perform CISCO Network LAB Administration    EDUCATION  B.Tech in Computer Science in Computer Science  Dr MGR University Chennai -  Chennai, Tamil Nadu  SKILLS  CPT (3 years), Data Center (4 years), Ethernet (3 years), testing (10+ years), Virtualization (7 years)  LINKS  http://www.linkedin.com/in/senthil-kumar-9600101b  ADDITIONAL INFORMATION  Skills  Virtualization VMware-VSphere, DVS, Cisco AVS, Cisco ACE  SDN Cisco Application Centric Infrastructure (ACI)  L2/L3 Protocols OSPF, EIGRP, MPLS, VLAN, VXLAN, STP, RSTP, VPC  Metro Ethernet Protocols Carrier Ethernet protocols EVC, MPLS TP, PsudoWire, REP  Traffic Generation Tools Traffic tools IXIA Iexplore and Smart Bit  Testing Tools Wireshark and MIB Browser  Network Products Cisco SDN ACI Fabric VMWare 5.5 and 6.0 Cisco UCSD Orchestration Carrier Ethernet devices (CPT […] Cisco Metro Ethernet 2600 Cisco routers GSR 12000, 7600 Data center Virtualization using the ACE Nexus 5k and ACI 9K switches Cat 6500 and 3550 Switches  http://www.linkedin.com/in/senthil-kumar-9600101b\n"
     ]
    }
   ],
   "source": [
    "print(train_data[0][0])"
   ]
  },
  {
   "cell_type": "code",
   "execution_count": 19,
   "id": "0300aa3a",
   "metadata": {
    "scrolled": true
   },
   "outputs": [
    {
     "name": "stdout",
     "output_type": "stream",
     "text": [
      "NAME                          - Senthil Kumar\n",
      "DESIGNATION                   - Senior Technical Lead\n",
      "COMPANIES WORKED AT           - Cisco\n",
      "DESIGNATION                   - Senior Technical Lead\n",
      "LOCATION                      - Bengaluru\n",
      "DESIGNATION                   - Technical Lead\n",
      "DESIGNATION                   - Technical Lead\n",
      "DEGREE                        - B.Tech in Computer Science in Computer Science\n",
      "COLLEGE NAME                  - Dr MGR University Chennai\n",
      "SKILLS                        - CPT (3 years), Data Center (4 years), Ethernet (3 years), testing (10+ years), Virtualization (7 years)\n",
      "SKILLS                        - Virtualization VMware-VSphere, DVS, Cisco AVS, Cisco ACE\n",
      "SKILLS                        - Application Centric Infrastructure (ACI)\n",
      "COMPANIES WORKED AT           - Cisco Metro Ethernet\n",
      "COMPANIES WORKED AT           - Cisco\n"
     ]
    }
   ],
   "source": [
    "doc = nlp_model(train_data[0][0])\n",
    "for ent in doc.ents:\n",
    "    print(f'{ent.label_.upper():{30}}- {ent.text}')"
   ]
  },
  {
   "cell_type": "code",
   "execution_count": 25,
   "id": "832b6436",
   "metadata": {},
   "outputs": [
    {
     "data": {
      "text/plain": [
       "'Kavya U. Network Ops Associate - Accenture  Bengaluru, Karnataka - Email me on Indeed: indeed.com/r/Kavya-U/049577580b3814e6  Seeking for opportunities to learn and grow in electronics domain.  WORK EXPERIENCE  Network Ops Associate  Accenture -  Bengaluru, Karnataka -  December 2017 to Present  Exposure: • Provisioning of different types of network speeds for multiple clients. • Use of Mux designing for Logical cross connect and Physical patching. We co- ordinate with various ops and field engineers to do the connections at the physical level.  2) Organisation: QuadGen Wireless Engineering Services Pvt. Ltd., Bangalore. Position: Network Engineer Experience: 1 year Exposure: • RAN (Radio Access Network) Engineer. • New Site Build (NSB)  2) Organisation: Manipal Dot Net Pvt. Ltd., Manipal. Position: Intern Experience: 1 year Exposure: • Module coding and verification using Verilog HDL • Worked on Linux O.S. • Understanding of SPI, I2C protocols • Compilation using Altera Quartus • Simulation using ModelSim • Report preparation and documentation  EDUCATION  Little Rock Indian School  2007  Master of Science in Technology in Technology  School Of Information Sciences  VLSI Design  https://www.indeed.com/r/Kavya-U/049577580b3814e6?isid=rex-download&ikw=download-top&co=IN   Manipal Academy of Higher Education  Bachelor of Engineering in Engineering  Srinivas Institute of Technology -  Mangalore, Karnataka  Electronics and Communication  Visvesvaraya Technological University  Vidyodaya P.U. College -  Udipi, Karnataka  SKILLS  coding (Less than 1 year), HDL (Less than 1 year), Microsoft office (Less than 1 year), MS OFFICE (Less than 1 year), UART (Less than 1 year)  ADDITIONAL INFORMATION  Technical Skills • Verilog HDL • Knowledge of RTL coding, FSM based designs. • Understanding of UART, AMBA protocol • Platforms: Microsoft office, Libreoffice'"
      ]
     },
     "execution_count": 25,
     "metadata": {},
     "output_type": "execute_result"
    }
   ],
   "source": [
    "#import sys, fitz\n",
    "#fname = 'Abhishek.pdf'\n",
    "#doc = fitz.open(fname)\n",
    "#text = \"\"\n",
    "#for page in doc:\n",
    "#    text = text + str(page.get_text())\n",
    "#tx = \" \".join(text.split('\\n'))\n",
    "#print(text)\n",
    "\n",
    "res=test[3][0]\n",
    "res"
   ]
  },
  {
   "cell_type": "code",
   "execution_count": 26,
   "id": "498bde05",
   "metadata": {},
   "outputs": [
    {
     "name": "stdout",
     "output_type": "stream",
     "text": [
      "NAME                          - Kavya U.\n",
      "DESIGNATION                   - Network Ops Associate\n",
      "COMPANIES WORKED AT           - Accenture\n",
      "LOCATION                      - Bengaluru\n",
      "DESIGNATION                   - Network Ops Associate\n",
      "COMPANIES WORKED AT           - Accenture\n",
      "LOCATION                      - Bengaluru\n",
      "COLLEGE NAME                  - Little Rock Indian School\n",
      "DEGREE                        - Master of Science in Technology in Technology\n",
      "DEGREE                        - Bachelor of Engineering in Engineering\n",
      "COLLEGE NAME                  - Srinivas Institute of Technology\n",
      "DEGREE                        - Electronics and Communication\n",
      "COLLEGE NAME                  - Visvesvaraya Technological University\n",
      "COLLEGE NAME                  - Vidyodaya P.U. College\n",
      "SKILLS                        - coding (Less than 1 year), HDL (Less than 1 year), Microsoft office (Less than 1 year), MS OFFICE (Less than 1 year), UART (Less than 1 year)\n",
      "LOCATION                      - Microsoft\n"
     ]
    }
   ],
   "source": [
    "doc = nlp_model(res)\n",
    "for ent in doc.ents:\n",
    "    print(f'{ent.label_.upper():{30}}- {ent.text}')"
   ]
  },
  {
   "cell_type": "code",
   "execution_count": null,
   "id": "0a0e09ce",
   "metadata": {},
   "outputs": [],
   "source": []
  },
  {
   "cell_type": "code",
   "execution_count": null,
   "id": "a94b6672",
   "metadata": {},
   "outputs": [],
   "source": []
  },
  {
   "cell_type": "code",
   "execution_count": null,
   "id": "df5d49f8",
   "metadata": {},
   "outputs": [],
   "source": []
  }
 ],
 "metadata": {
  "kernelspec": {
   "display_name": "Python 3 (ipykernel)",
   "language": "python",
   "name": "python3"
  },
  "language_info": {
   "codemirror_mode": {
    "name": "ipython",
    "version": 3
   },
   "file_extension": ".py",
   "mimetype": "text/x-python",
   "name": "python",
   "nbconvert_exporter": "python",
   "pygments_lexer": "ipython3",
   "version": "3.8.8"
  }
 },
 "nbformat": 4,
 "nbformat_minor": 5
}
